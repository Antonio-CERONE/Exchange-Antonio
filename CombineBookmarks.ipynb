{
 "cells": [
  {
   "cell_type": "markdown",
   "id": "106cb87d-0256-42d5-80f3-651afa7d9c43",
   "metadata": {},
   "source": [
    "## Importer les librairies nécessaires"
   ]
  },
  {
   "cell_type": "code",
   "execution_count": 1,
   "id": "b02d0e5f-eb29-468e-82b6-e26bdd65a799",
   "metadata": {},
   "outputs": [],
   "source": [
    "import os\n",
    "import json\n",
    "from bs4 import BeautifulSoup"
   ]
  },
  {
   "cell_type": "markdown",
   "id": "8a72ceae-e013-486a-9e36-d9a2f5db9e54",
   "metadata": {},
   "source": [
    "## Approche_0 : titre et url "
   ]
  },
  {
   "cell_type": "code",
   "execution_count": 2,
   "id": "be688984-30bb-4365-8784-f71ac4360bb8",
   "metadata": {},
   "outputs": [],
   "source": [
    "# Définir la fonction parser avec beautifulsoup\n",
    "def parser_favoris(html_file):\n",
    "    \"\"\"Parser un fichier HTML de favoris.\"\"\"\n",
    "    with open(html_file, 'r', encoding='utf-8') as file:\n",
    "        soup = BeautifulSoup(file, 'lxml')\n",
    "    \n",
    "    # Trouver tous les liens\n",
    "    links = soup.find_all('a')\n",
    "    \n",
    "    favoris = []\n",
    "    for link in links:\n",
    "        href = link.get('href')\n",
    "        if href:\n",
    "            title = link.text\n",
    "            favoris.append({'title': title, 'href': href})\n",
    "    \n",
    "    return favoris"
   ]
  },
  {
   "cell_type": "code",
   "execution_count": 3,
   "id": "00de836c-c575-461f-bd5b-c75ea11bf533",
   "metadata": {},
   "outputs": [],
   "source": [
    "# Définir une fonction pour combiner les 2 listes de favoris, tout en supprimant les doublons d'url parmi eux\n",
    "def combiner_favoris(favoris_pro, favoris_perso):\n",
    "    \"\"\"Combiner deux listes de favoris, en supprimant les doublons.\"\"\"\n",
    "    # Utiliser un dictionnaire pour supprimer les doublons\n",
    "    favoris_dict = {}\n",
    "    for favori in favoris_pro + favoris_perso:\n",
    "        favoris_dict[favori['href']] = favori\n",
    "    \n",
    "    # Convertir le dictionnaire en liste\n",
    "    favoris_combines = list(favoris_dict.values())\n",
    "    \n",
    "    return favoris_combines"
   ]
  },
  {
   "cell_type": "code",
   "execution_count": 4,
   "id": "17a1aefd-1742-4868-8f52-873b713d9efb",
   "metadata": {},
   "outputs": [],
   "source": [
    "# Définir une fonction qui sauvegarde en json les favoris combinés\n",
    "def sauvegarder_favoris(favoris, output_file):\n",
    "    \"\"\"Sauvegarder les favoris combinés dans un fichier JSON.\"\"\"\n",
    "    with open(output_file, 'w', encoding='utf-8') as file:\n",
    "        json.dump(favoris, file, indent=4, ensure_ascii=False)"
   ]
  },
  {
   "cell_type": "code",
   "execution_count": 5,
   "id": "036ee668-93ed-47ca-881e-b8b866e9fbc1",
   "metadata": {},
   "outputs": [
    {
     "name": "stdout",
     "output_type": "stream",
     "text": [
      "Favoris combinés avec succès!\n"
     ]
    }
   ],
   "source": [
    "if __name__ == \"__main__\":\n",
    "    favoris_pro_file = 'favoris_pro.html'\n",
    "    favoris_perso_file = 'favoris_perso.html'\n",
    "    output_file = 'favoris_combines.json'\n",
    "    \n",
    "    favoris_pro = parser_favoris(favoris_pro_file)\n",
    "    favoris_perso = parser_favoris(favoris_perso_file)\n",
    "    \n",
    "    favoris_combines = combiner_favoris(favoris_pro, favoris_perso)\n",
    "    \n",
    "    sauvegarder_favoris(favoris_combines, output_file)\n",
    "    \n",
    "    print(\"Favoris combinés avec succès!\")"
   ]
  },
  {
   "cell_type": "code",
   "execution_count": 6,
   "id": "49d64034-c8b2-431e-ae33-b801a535cc0f",
   "metadata": {},
   "outputs": [
    {
     "name": "stdout",
     "output_type": "stream",
     "text": [
      "<class 'pandas.core.frame.DataFrame'>\n",
      "RangeIndex: 3334 entries, 0 to 3333\n",
      "Data columns (total 2 columns):\n",
      " #   Column  Non-Null Count  Dtype \n",
      "---  ------  --------------  ----- \n",
      " 0   title   3334 non-null   object\n",
      " 1   href    3334 non-null   object\n",
      "dtypes: object(2)\n",
      "memory usage: 52.2+ KB\n"
     ]
    }
   ],
   "source": [
    "# Créer un dataframe du fichier contenant les favoris combinés\n",
    "import pandas as pd\n",
    "import re\n",
    "\n",
    "# Charger le fichier JSON dans un DataFrame\n",
    "df_bookmark = pd.read_json('favoris_combines.json')\n",
    "\n",
    "# Supprimer les émojis et les caractères non ASCII\n",
    "df_bookmark['title'] = df_bookmark['title'].apply(lambda x: re.sub(r'[^\\x00-\\x7F]+', '', x))\n",
    "\n",
    "# Information sur le DataFrame\n",
    "df_bookmark.info()"
   ]
  },
  {
   "cell_type": "code",
   "execution_count": 7,
   "id": "8c5428d5-1f6e-4331-b569-fc9882afe83c",
   "metadata": {},
   "outputs": [
    {
     "data": {
      "text/html": [
       "<div>\n",
       "<style scoped>\n",
       "    .dataframe tbody tr th:only-of-type {\n",
       "        vertical-align: middle;\n",
       "    }\n",
       "\n",
       "    .dataframe tbody tr th {\n",
       "        vertical-align: top;\n",
       "    }\n",
       "\n",
       "    .dataframe thead th {\n",
       "        text-align: right;\n",
       "    }\n",
       "</style>\n",
       "<table border=\"1\" class=\"dataframe\">\n",
       "  <thead>\n",
       "    <tr style=\"text-align: right;\">\n",
       "      <th></th>\n",
       "      <th>title</th>\n",
       "      <th>href</th>\n",
       "    </tr>\n",
       "  </thead>\n",
       "  <tbody>\n",
       "    <tr>\n",
       "      <th>0</th>\n",
       "      <td>Gemini</td>\n",
       "      <td>https://accounts.google.com/v3/signin/identifi...</td>\n",
       "    </tr>\n",
       "    <tr>\n",
       "      <th>1</th>\n",
       "      <td>HuggingChat</td>\n",
       "      <td>https://huggingface.co/chat/</td>\n",
       "    </tr>\n",
       "    <tr>\n",
       "      <th>2</th>\n",
       "      <td>Blackbox.ai</td>\n",
       "      <td>https://www.blackbox.ai/chat/expert-python</td>\n",
       "    </tr>\n",
       "    <tr>\n",
       "      <th>3</th>\n",
       "      <td>Python Formatter and Beautifier</td>\n",
       "      <td>https://codebeautify.org/python-formatter-beau...</td>\n",
       "    </tr>\n",
       "    <tr>\n",
       "      <th>4</th>\n",
       "      <td>GitHub - manojVivek/medium-unlimited at the-tl...</td>\n",
       "      <td>https://github.com/manojVivek/medium-unlimited...</td>\n",
       "    </tr>\n",
       "    <tr>\n",
       "      <th>5</th>\n",
       "      <td>Khuyen's Links</td>\n",
       "      <td>https://bit.ly/m/khuyentran</td>\n",
       "    </tr>\n",
       "    <tr>\n",
       "      <th>6</th>\n",
       "      <td>Rob Mulla | Grandmaster | Kaggle</td>\n",
       "      <td>https://www.kaggle.com/robikscube</td>\n",
       "    </tr>\n",
       "    <tr>\n",
       "      <th>7</th>\n",
       "      <td>CodeCut  Stay sharp, learn in a snap</td>\n",
       "      <td>https://codecut.ai/?utm_source=linkedin.com%2F...</td>\n",
       "    </tr>\n",
       "    <tr>\n",
       "      <th>8</th>\n",
       "      <td>CodeCut  Stay sharp, learn in a snap</td>\n",
       "      <td>https://codecut.ai/</td>\n",
       "    </tr>\n",
       "    <tr>\n",
       "      <th>9</th>\n",
       "      <td>How to fix - Python pip install connection err...</td>\n",
       "      <td>https://jhooq.com/pip-install-connection-error/</td>\n",
       "    </tr>\n",
       "    <tr>\n",
       "      <th>10</th>\n",
       "      <td>Windows Terminal : Tips and Tricks</td>\n",
       "      <td>https://www.it-connect.fr/windows-terminal-tru...</td>\n",
       "    </tr>\n",
       "    <tr>\n",
       "      <th>11</th>\n",
       "      <td>Astuces python 3 : Ajouter(installer), supprim...</td>\n",
       "      <td>https://steemit.com/utopian-io/@raptorjesus/as...</td>\n",
       "    </tr>\n",
       "    <tr>\n",
       "      <th>12</th>\n",
       "      <td>Python install without admin rights - YouTube</td>\n",
       "      <td>https://www.youtube.com/watch?v=D90l4N9O4FE</td>\n",
       "    </tr>\n",
       "    <tr>\n",
       "      <th>13</th>\n",
       "      <td>How to enable LongPathsEnabled</td>\n",
       "      <td>https://www.thewindowsclub.com/how-to-enable-o...</td>\n",
       "    </tr>\n",
       "    <tr>\n",
       "      <th>14</th>\n",
       "      <td>Python virtual environment: 3 Ways to upgrade ...</td>\n",
       "      <td>https://www.slingacademy.com/article/python-vi...</td>\n",
       "    </tr>\n",
       "    <tr>\n",
       "      <th>15</th>\n",
       "      <td>Pipreqs Tutorial  How to Create Requirements.t...</td>\n",
       "      <td>https://blog.jcharistech.com/2020/11/02/pipreq...</td>\n",
       "    </tr>\n",
       "    <tr>\n",
       "      <th>16</th>\n",
       "      <td>Pipreqs - Create a sane requirements.txt</td>\n",
       "      <td>https://www.youtube.com/watch?v=clVaa0YNCIA</td>\n",
       "    </tr>\n",
       "    <tr>\n",
       "      <th>17</th>\n",
       "      <td>Python Pipreqs - How to Create requirements.tx...</td>\n",
       "      <td>https://betterdatascience.com/python-pipreqs/?...</td>\n",
       "    </tr>\n",
       "    <tr>\n",
       "      <th>18</th>\n",
       "      <td>GitHub - ivanlen/pipreqsnb: pipreqs with jupyt...</td>\n",
       "      <td>https://github.com/ivanlen/pipreqsnb</td>\n",
       "    </tr>\n",
       "    <tr>\n",
       "      <th>19</th>\n",
       "      <td>Generate requirements.txt File for Jupyter Not...</td>\n",
       "      <td>https://mathdatasimplified.com/generate-requir...</td>\n",
       "    </tr>\n",
       "  </tbody>\n",
       "</table>\n",
       "</div>"
      ],
      "text/plain": [
       "                                                title  \\\n",
       "0                                              Gemini   \n",
       "1                                         HuggingChat   \n",
       "2                                         Blackbox.ai   \n",
       "3                     Python Formatter and Beautifier   \n",
       "4   GitHub - manojVivek/medium-unlimited at the-tl...   \n",
       "5                                      Khuyen's Links   \n",
       "6                    Rob Mulla | Grandmaster | Kaggle   \n",
       "7                CodeCut  Stay sharp, learn in a snap   \n",
       "8                CodeCut  Stay sharp, learn in a snap   \n",
       "9   How to fix - Python pip install connection err...   \n",
       "10                 Windows Terminal : Tips and Tricks   \n",
       "11  Astuces python 3 : Ajouter(installer), supprim...   \n",
       "12      Python install without admin rights - YouTube   \n",
       "13                     How to enable LongPathsEnabled   \n",
       "14  Python virtual environment: 3 Ways to upgrade ...   \n",
       "15  Pipreqs Tutorial  How to Create Requirements.t...   \n",
       "16           Pipreqs - Create a sane requirements.txt   \n",
       "17  Python Pipreqs - How to Create requirements.tx...   \n",
       "18  GitHub - ivanlen/pipreqsnb: pipreqs with jupyt...   \n",
       "19  Generate requirements.txt File for Jupyter Not...   \n",
       "\n",
       "                                                 href  \n",
       "0   https://accounts.google.com/v3/signin/identifi...  \n",
       "1                        https://huggingface.co/chat/  \n",
       "2          https://www.blackbox.ai/chat/expert-python  \n",
       "3   https://codebeautify.org/python-formatter-beau...  \n",
       "4   https://github.com/manojVivek/medium-unlimited...  \n",
       "5                         https://bit.ly/m/khuyentran  \n",
       "6                   https://www.kaggle.com/robikscube  \n",
       "7   https://codecut.ai/?utm_source=linkedin.com%2F...  \n",
       "8                                 https://codecut.ai/  \n",
       "9     https://jhooq.com/pip-install-connection-error/  \n",
       "10  https://www.it-connect.fr/windows-terminal-tru...  \n",
       "11  https://steemit.com/utopian-io/@raptorjesus/as...  \n",
       "12        https://www.youtube.com/watch?v=D90l4N9O4FE  \n",
       "13  https://www.thewindowsclub.com/how-to-enable-o...  \n",
       "14  https://www.slingacademy.com/article/python-vi...  \n",
       "15  https://blog.jcharistech.com/2020/11/02/pipreq...  \n",
       "16        https://www.youtube.com/watch?v=clVaa0YNCIA  \n",
       "17  https://betterdatascience.com/python-pipreqs/?...  \n",
       "18               https://github.com/ivanlen/pipreqsnb  \n",
       "19  https://mathdatasimplified.com/generate-requir...  "
      ]
     },
     "execution_count": 7,
     "metadata": {},
     "output_type": "execute_result"
    }
   ],
   "source": [
    "df_bookmark.head(20)"
   ]
  },
  {
   "cell_type": "markdown",
   "id": "5a65b5e0-510f-48f2-99db-5f619dd0d36e",
   "metadata": {},
   "source": [
    "## Machine Learning : Création d'étiquettes de thème en automatique"
   ]
  },
  {
   "cell_type": "code",
   "execution_count": 8,
   "id": "b5c7469e-ac2b-449e-ba4c-a1696985bc17",
   "metadata": {},
   "outputs": [],
   "source": [
    "import numpy as np\n",
    "import plotly.graph_objects as go\n",
    "from sklearn.cluster import KMeans\n",
    "from sklearn.metrics import silhouette_score\n",
    "from sklearn.feature_extraction.text import TfidfVectorizer\n",
    "from spacy.util import minibatch, compounding\n",
    "from spacy import displacy\n",
    "import spacy\n",
    "from spacy.lang.fr.stop_words import STOP_WORDS as fr_stop\n",
    "from spacy.lang.en.stop_words import STOP_WORDS as en_stop\n"
   ]
  },
  {
   "cell_type": "code",
   "execution_count": 9,
   "id": "17129364",
   "metadata": {},
   "outputs": [
    {
     "data": {
      "text/html": [
       "<div>\n",
       "<style scoped>\n",
       "    .dataframe tbody tr th:only-of-type {\n",
       "        vertical-align: middle;\n",
       "    }\n",
       "\n",
       "    .dataframe tbody tr th {\n",
       "        vertical-align: top;\n",
       "    }\n",
       "\n",
       "    .dataframe thead th {\n",
       "        text-align: right;\n",
       "    }\n",
       "</style>\n",
       "<table border=\"1\" class=\"dataframe\">\n",
       "  <thead>\n",
       "    <tr style=\"text-align: right;\">\n",
       "      <th></th>\n",
       "      <th>title</th>\n",
       "      <th>href</th>\n",
       "    </tr>\n",
       "  </thead>\n",
       "  <tbody>\n",
       "    <tr>\n",
       "      <th>0</th>\n",
       "      <td>Gemini</td>\n",
       "      <td>https://accounts.google.com/v3/signin/identifi...</td>\n",
       "    </tr>\n",
       "    <tr>\n",
       "      <th>1</th>\n",
       "      <td>HuggingChat</td>\n",
       "      <td>https://huggingface.co/chat/</td>\n",
       "    </tr>\n",
       "    <tr>\n",
       "      <th>2</th>\n",
       "      <td>Blackbox.ai</td>\n",
       "      <td>https://www.blackbox.ai/chat/expert-python</td>\n",
       "    </tr>\n",
       "    <tr>\n",
       "      <th>3</th>\n",
       "      <td>Python Formatter and Beautifier</td>\n",
       "      <td>https://codebeautify.org/python-formatter-beau...</td>\n",
       "    </tr>\n",
       "    <tr>\n",
       "      <th>4</th>\n",
       "      <td>GitHub - manojVivek/medium-unlimited at the-tl...</td>\n",
       "      <td>https://github.com/manojVivek/medium-unlimited...</td>\n",
       "    </tr>\n",
       "    <tr>\n",
       "      <th>5</th>\n",
       "      <td>Khuyen's Links</td>\n",
       "      <td>https://bit.ly/m/khuyentran</td>\n",
       "    </tr>\n",
       "    <tr>\n",
       "      <th>6</th>\n",
       "      <td>Rob Mulla | Grandmaster | Kaggle</td>\n",
       "      <td>https://www.kaggle.com/robikscube</td>\n",
       "    </tr>\n",
       "    <tr>\n",
       "      <th>7</th>\n",
       "      <td>CodeCut  Stay sharp, learn in a snap</td>\n",
       "      <td>https://codecut.ai/?utm_source=linkedin.com%2F...</td>\n",
       "    </tr>\n",
       "    <tr>\n",
       "      <th>8</th>\n",
       "      <td>CodeCut  Stay sharp, learn in a snap</td>\n",
       "      <td>https://codecut.ai/</td>\n",
       "    </tr>\n",
       "    <tr>\n",
       "      <th>9</th>\n",
       "      <td>How to fix - Python pip install connection err...</td>\n",
       "      <td>https://jhooq.com/pip-install-connection-error/</td>\n",
       "    </tr>\n",
       "    <tr>\n",
       "      <th>10</th>\n",
       "      <td>Windows Terminal : Tips and Tricks</td>\n",
       "      <td>https://www.it-connect.fr/windows-terminal-tru...</td>\n",
       "    </tr>\n",
       "    <tr>\n",
       "      <th>11</th>\n",
       "      <td>Astuces python 3 : Ajouter(installer), supprim...</td>\n",
       "      <td>https://steemit.com/utopian-io/@raptorjesus/as...</td>\n",
       "    </tr>\n",
       "    <tr>\n",
       "      <th>12</th>\n",
       "      <td>Python install without admin rights - YouTube</td>\n",
       "      <td>https://www.youtube.com/watch?v=D90l4N9O4FE</td>\n",
       "    </tr>\n",
       "    <tr>\n",
       "      <th>13</th>\n",
       "      <td>How to enable LongPathsEnabled</td>\n",
       "      <td>https://www.thewindowsclub.com/how-to-enable-o...</td>\n",
       "    </tr>\n",
       "    <tr>\n",
       "      <th>14</th>\n",
       "      <td>Python virtual environment: 3 Ways to upgrade ...</td>\n",
       "      <td>https://www.slingacademy.com/article/python-vi...</td>\n",
       "    </tr>\n",
       "    <tr>\n",
       "      <th>15</th>\n",
       "      <td>Pipreqs Tutorial  How to Create Requirements.t...</td>\n",
       "      <td>https://blog.jcharistech.com/2020/11/02/pipreq...</td>\n",
       "    </tr>\n",
       "    <tr>\n",
       "      <th>16</th>\n",
       "      <td>Pipreqs - Create a sane requirements.txt</td>\n",
       "      <td>https://www.youtube.com/watch?v=clVaa0YNCIA</td>\n",
       "    </tr>\n",
       "    <tr>\n",
       "      <th>17</th>\n",
       "      <td>Python Pipreqs - How to Create requirements.tx...</td>\n",
       "      <td>https://betterdatascience.com/python-pipreqs/?...</td>\n",
       "    </tr>\n",
       "    <tr>\n",
       "      <th>18</th>\n",
       "      <td>GitHub - ivanlen/pipreqsnb: pipreqs with jupyt...</td>\n",
       "      <td>https://github.com/ivanlen/pipreqsnb</td>\n",
       "    </tr>\n",
       "    <tr>\n",
       "      <th>19</th>\n",
       "      <td>Generate requirements.txt File for Jupyter Not...</td>\n",
       "      <td>https://mathdatasimplified.com/generate-requir...</td>\n",
       "    </tr>\n",
       "    <tr>\n",
       "      <th>20</th>\n",
       "      <td>intro_to_latex</td>\n",
       "      <td>http://chebe163.caltech.edu/2018w/handouts/int...</td>\n",
       "    </tr>\n",
       "    <tr>\n",
       "      <th>21</th>\n",
       "      <td>Jupyter Notebook Markdown Tutorial | DataCamp</td>\n",
       "      <td>https://www.datacamp.com/tutorial/markdown-in-...</td>\n",
       "    </tr>\n",
       "    <tr>\n",
       "      <th>22</th>\n",
       "      <td>Hacks | Markdown Guide</td>\n",
       "      <td>https://www.markdownguide.org/hacks/#:~:text=I...</td>\n",
       "    </tr>\n",
       "    <tr>\n",
       "      <th>23</th>\n",
       "      <td>Images in Markdown - javatpoint</td>\n",
       "      <td>https://www.javatpoint.com/images-in-markdown#...</td>\n",
       "    </tr>\n",
       "    <tr>\n",
       "      <th>24</th>\n",
       "      <td>Get and change the current working directory i...</td>\n",
       "      <td>https://note.nkmk.me/en/python-os-getcwd-chdir/</td>\n",
       "    </tr>\n",
       "  </tbody>\n",
       "</table>\n",
       "</div>"
      ],
      "text/plain": [
       "                                                title  \\\n",
       "0                                              Gemini   \n",
       "1                                         HuggingChat   \n",
       "2                                         Blackbox.ai   \n",
       "3                     Python Formatter and Beautifier   \n",
       "4   GitHub - manojVivek/medium-unlimited at the-tl...   \n",
       "5                                      Khuyen's Links   \n",
       "6                    Rob Mulla | Grandmaster | Kaggle   \n",
       "7                CodeCut  Stay sharp, learn in a snap   \n",
       "8                CodeCut  Stay sharp, learn in a snap   \n",
       "9   How to fix - Python pip install connection err...   \n",
       "10                 Windows Terminal : Tips and Tricks   \n",
       "11  Astuces python 3 : Ajouter(installer), supprim...   \n",
       "12      Python install without admin rights - YouTube   \n",
       "13                     How to enable LongPathsEnabled   \n",
       "14  Python virtual environment: 3 Ways to upgrade ...   \n",
       "15  Pipreqs Tutorial  How to Create Requirements.t...   \n",
       "16           Pipreqs - Create a sane requirements.txt   \n",
       "17  Python Pipreqs - How to Create requirements.tx...   \n",
       "18  GitHub - ivanlen/pipreqsnb: pipreqs with jupyt...   \n",
       "19  Generate requirements.txt File for Jupyter Not...   \n",
       "20                                     intro_to_latex   \n",
       "21      Jupyter Notebook Markdown Tutorial | DataCamp   \n",
       "22                             Hacks | Markdown Guide   \n",
       "23                    Images in Markdown - javatpoint   \n",
       "24  Get and change the current working directory i...   \n",
       "\n",
       "                                                 href  \n",
       "0   https://accounts.google.com/v3/signin/identifi...  \n",
       "1                        https://huggingface.co/chat/  \n",
       "2          https://www.blackbox.ai/chat/expert-python  \n",
       "3   https://codebeautify.org/python-formatter-beau...  \n",
       "4   https://github.com/manojVivek/medium-unlimited...  \n",
       "5                         https://bit.ly/m/khuyentran  \n",
       "6                   https://www.kaggle.com/robikscube  \n",
       "7   https://codecut.ai/?utm_source=linkedin.com%2F...  \n",
       "8                                 https://codecut.ai/  \n",
       "9     https://jhooq.com/pip-install-connection-error/  \n",
       "10  https://www.it-connect.fr/windows-terminal-tru...  \n",
       "11  https://steemit.com/utopian-io/@raptorjesus/as...  \n",
       "12        https://www.youtube.com/watch?v=D90l4N9O4FE  \n",
       "13  https://www.thewindowsclub.com/how-to-enable-o...  \n",
       "14  https://www.slingacademy.com/article/python-vi...  \n",
       "15  https://blog.jcharistech.com/2020/11/02/pipreq...  \n",
       "16        https://www.youtube.com/watch?v=clVaa0YNCIA  \n",
       "17  https://betterdatascience.com/python-pipreqs/?...  \n",
       "18               https://github.com/ivanlen/pipreqsnb  \n",
       "19  https://mathdatasimplified.com/generate-requir...  \n",
       "20  http://chebe163.caltech.edu/2018w/handouts/int...  \n",
       "21  https://www.datacamp.com/tutorial/markdown-in-...  \n",
       "22  https://www.markdownguide.org/hacks/#:~:text=I...  \n",
       "23  https://www.javatpoint.com/images-in-markdown#...  \n",
       "24    https://note.nkmk.me/en/python-os-getcwd-chdir/  "
      ]
     },
     "execution_count": 9,
     "metadata": {},
     "output_type": "execute_result"
    }
   ],
   "source": [
    "df_bookmark.head(25)"
   ]
  },
  {
   "cell_type": "code",
   "execution_count": 10,
   "id": "23e770ca-f6e4-46d2-b48b-39e6563d70d8",
   "metadata": {},
   "outputs": [],
   "source": [
    "# Définir le vectorizer avec les modèles de langage\n",
    "final_stopwords_list = list(fr_stop) + list(en_stop)\n",
    "tfidf_vectorizer = TfidfVectorizer( \n",
    "    max_df=0.985,\n",
    "    # max_features=2000000,\n",
    "    min_df=0.00005,\n",
    "    stop_words=final_stopwords_list,\n",
    "    use_idf=True,  \n",
    "    ngram_range=(1,12)\n",
    ")"
   ]
  },
  {
   "cell_type": "code",
   "execution_count": 11,
   "id": "e596230a-71c6-4476-a2f7-f73874315187",
   "metadata": {},
   "outputs": [
    {
     "name": "stderr",
     "output_type": "stream",
     "text": [
      "c:\\Users\\acerone\\Documents\\Projets Python\\00_Venv\\090_WebScraping\\my_venv\\Lib\\site-packages\\sklearn\\feature_extraction\\text.py:402: UserWarning: Your stop_words may be inconsistent with your preprocessing. Tokenizing the stop words generated tokens ['ll', 'neuf', 'qu', 'quelqu', 've'] not in stop_words.\n",
      "  warnings.warn(\n"
     ]
    }
   ],
   "source": [
    "# Charger les données\n",
    "df_bookmark = pd.read_json('favoris_combines.json')\n",
    "\n",
    "# Prétraitement des données\n",
    "df_bookmark['title'] = df_bookmark['title'].apply(lambda x: x.lower())\n",
    "df_bookmark['title'] = df_bookmark['title'].apply(lambda x: x.replace(',', '').replace('.', '').replace('|', '-'))\n",
    "# Supprimer les émojis et les caractères non ASCII\n",
    "df_bookmark['title'] = df_bookmark['title'].apply(lambda x: re.sub(r'[^\\x00-\\x7F]+', '', x))                                                                  \n",
    "\n",
    "\n",
    "# Transformer les données\n",
    "X = tfidf_vectorizer.fit_transform(df_bookmark['title'])"
   ]
  },
  {
   "cell_type": "code",
   "execution_count": 12,
   "id": "d689a8bd-9499-42b2-9b4d-9b7cafdce37f",
   "metadata": {},
   "outputs": [
    {
     "name": "stderr",
     "output_type": "stream",
     "text": [
      "c:\\Users\\acerone\\Documents\\Projets Python\\00_Venv\\090_WebScraping\\my_venv\\Lib\\site-packages\\sklearn\\base.py:1389: ConvergenceWarning: Number of distinct clusters (17) found smaller than n_clusters (18). Possibly due to duplicate points in X.\n",
      "  return fit_method(estimator, *args, **kwargs)\n",
      "c:\\Users\\acerone\\Documents\\Projets Python\\00_Venv\\090_WebScraping\\my_venv\\Lib\\site-packages\\sklearn\\base.py:1389: ConvergenceWarning: Number of distinct clusters (17) found smaller than n_clusters (19). Possibly due to duplicate points in X.\n",
      "  return fit_method(estimator, *args, **kwargs)\n",
      "c:\\Users\\acerone\\Documents\\Projets Python\\00_Venv\\090_WebScraping\\my_venv\\Lib\\site-packages\\sklearn\\base.py:1389: ConvergenceWarning: Number of distinct clusters (17) found smaller than n_clusters (20). Possibly due to duplicate points in X.\n",
      "  return fit_method(estimator, *args, **kwargs)\n",
      "c:\\Users\\acerone\\Documents\\Projets Python\\00_Venv\\090_WebScraping\\my_venv\\Lib\\site-packages\\sklearn\\base.py:1389: ConvergenceWarning: Number of distinct clusters (17) found smaller than n_clusters (21). Possibly due to duplicate points in X.\n",
      "  return fit_method(estimator, *args, **kwargs)\n",
      "c:\\Users\\acerone\\Documents\\Projets Python\\00_Venv\\090_WebScraping\\my_venv\\Lib\\site-packages\\sklearn\\base.py:1389: ConvergenceWarning: Number of distinct clusters (17) found smaller than n_clusters (22). Possibly due to duplicate points in X.\n",
      "  return fit_method(estimator, *args, **kwargs)\n",
      "c:\\Users\\acerone\\Documents\\Projets Python\\00_Venv\\090_WebScraping\\my_venv\\Lib\\site-packages\\sklearn\\base.py:1389: ConvergenceWarning: Number of distinct clusters (17) found smaller than n_clusters (23). Possibly due to duplicate points in X.\n",
      "  return fit_method(estimator, *args, **kwargs)\n",
      "c:\\Users\\acerone\\Documents\\Projets Python\\00_Venv\\090_WebScraping\\my_venv\\Lib\\site-packages\\sklearn\\base.py:1389: ConvergenceWarning: Number of distinct clusters (17) found smaller than n_clusters (24). Possibly due to duplicate points in X.\n",
      "  return fit_method(estimator, *args, **kwargs)\n",
      "c:\\Users\\acerone\\Documents\\Projets Python\\00_Venv\\090_WebScraping\\my_venv\\Lib\\site-packages\\sklearn\\base.py:1389: ConvergenceWarning: Number of distinct clusters (17) found smaller than n_clusters (25). Possibly due to duplicate points in X.\n",
      "  return fit_method(estimator, *args, **kwargs)\n",
      "c:\\Users\\acerone\\Documents\\Projets Python\\00_Venv\\090_WebScraping\\my_venv\\Lib\\site-packages\\sklearn\\base.py:1389: ConvergenceWarning: Number of distinct clusters (17) found smaller than n_clusters (26). Possibly due to duplicate points in X.\n",
      "  return fit_method(estimator, *args, **kwargs)\n",
      "c:\\Users\\acerone\\Documents\\Projets Python\\00_Venv\\090_WebScraping\\my_venv\\Lib\\site-packages\\sklearn\\base.py:1389: ConvergenceWarning: Number of distinct clusters (17) found smaller than n_clusters (27). Possibly due to duplicate points in X.\n",
      "  return fit_method(estimator, *args, **kwargs)\n",
      "c:\\Users\\acerone\\Documents\\Projets Python\\00_Venv\\090_WebScraping\\my_venv\\Lib\\site-packages\\sklearn\\base.py:1389: ConvergenceWarning: Number of distinct clusters (17) found smaller than n_clusters (28). Possibly due to duplicate points in X.\n",
      "  return fit_method(estimator, *args, **kwargs)\n",
      "c:\\Users\\acerone\\Documents\\Projets Python\\00_Venv\\090_WebScraping\\my_venv\\Lib\\site-packages\\sklearn\\base.py:1389: ConvergenceWarning: Number of distinct clusters (17) found smaller than n_clusters (29). Possibly due to duplicate points in X.\n",
      "  return fit_method(estimator, *args, **kwargs)\n",
      "c:\\Users\\acerone\\Documents\\Projets Python\\00_Venv\\090_WebScraping\\my_venv\\Lib\\site-packages\\sklearn\\base.py:1389: ConvergenceWarning: Number of distinct clusters (17) found smaller than n_clusters (30). Possibly due to duplicate points in X.\n",
      "  return fit_method(estimator, *args, **kwargs)\n",
      "c:\\Users\\acerone\\Documents\\Projets Python\\00_Venv\\090_WebScraping\\my_venv\\Lib\\site-packages\\sklearn\\base.py:1389: ConvergenceWarning: Number of distinct clusters (17) found smaller than n_clusters (31). Possibly due to duplicate points in X.\n",
      "  return fit_method(estimator, *args, **kwargs)\n",
      "c:\\Users\\acerone\\Documents\\Projets Python\\00_Venv\\090_WebScraping\\my_venv\\Lib\\site-packages\\sklearn\\base.py:1389: ConvergenceWarning: Number of distinct clusters (17) found smaller than n_clusters (32). Possibly due to duplicate points in X.\n",
      "  return fit_method(estimator, *args, **kwargs)\n",
      "c:\\Users\\acerone\\Documents\\Projets Python\\00_Venv\\090_WebScraping\\my_venv\\Lib\\site-packages\\sklearn\\base.py:1389: ConvergenceWarning: Number of distinct clusters (17) found smaller than n_clusters (33). Possibly due to duplicate points in X.\n",
      "  return fit_method(estimator, *args, **kwargs)\n",
      "c:\\Users\\acerone\\Documents\\Projets Python\\00_Venv\\090_WebScraping\\my_venv\\Lib\\site-packages\\sklearn\\base.py:1389: ConvergenceWarning: Number of distinct clusters (17) found smaller than n_clusters (34). Possibly due to duplicate points in X.\n",
      "  return fit_method(estimator, *args, **kwargs)\n",
      "c:\\Users\\acerone\\Documents\\Projets Python\\00_Venv\\090_WebScraping\\my_venv\\Lib\\site-packages\\sklearn\\base.py:1389: ConvergenceWarning: Number of distinct clusters (17) found smaller than n_clusters (35). Possibly due to duplicate points in X.\n",
      "  return fit_method(estimator, *args, **kwargs)\n",
      "c:\\Users\\acerone\\Documents\\Projets Python\\00_Venv\\090_WebScraping\\my_venv\\Lib\\site-packages\\sklearn\\base.py:1389: ConvergenceWarning: Number of distinct clusters (17) found smaller than n_clusters (36). Possibly due to duplicate points in X.\n",
      "  return fit_method(estimator, *args, **kwargs)\n",
      "c:\\Users\\acerone\\Documents\\Projets Python\\00_Venv\\090_WebScraping\\my_venv\\Lib\\site-packages\\sklearn\\base.py:1389: ConvergenceWarning: Number of distinct clusters (17) found smaller than n_clusters (37). Possibly due to duplicate points in X.\n",
      "  return fit_method(estimator, *args, **kwargs)\n",
      "c:\\Users\\acerone\\Documents\\Projets Python\\00_Venv\\090_WebScraping\\my_venv\\Lib\\site-packages\\sklearn\\base.py:1389: ConvergenceWarning: Number of distinct clusters (17) found smaller than n_clusters (38). Possibly due to duplicate points in X.\n",
      "  return fit_method(estimator, *args, **kwargs)\n",
      "c:\\Users\\acerone\\Documents\\Projets Python\\00_Venv\\090_WebScraping\\my_venv\\Lib\\site-packages\\sklearn\\base.py:1389: ConvergenceWarning: Number of distinct clusters (17) found smaller than n_clusters (39). Possibly due to duplicate points in X.\n",
      "  return fit_method(estimator, *args, **kwargs)\n",
      "c:\\Users\\acerone\\Documents\\Projets Python\\00_Venv\\090_WebScraping\\my_venv\\Lib\\site-packages\\sklearn\\base.py:1389: ConvergenceWarning: Number of distinct clusters (17) found smaller than n_clusters (40). Possibly due to duplicate points in X.\n",
      "  return fit_method(estimator, *args, **kwargs)\n",
      "c:\\Users\\acerone\\Documents\\Projets Python\\00_Venv\\090_WebScraping\\my_venv\\Lib\\site-packages\\sklearn\\base.py:1389: ConvergenceWarning: Number of distinct clusters (17) found smaller than n_clusters (41). Possibly due to duplicate points in X.\n",
      "  return fit_method(estimator, *args, **kwargs)\n",
      "c:\\Users\\acerone\\Documents\\Projets Python\\00_Venv\\090_WebScraping\\my_venv\\Lib\\site-packages\\sklearn\\base.py:1389: ConvergenceWarning: Number of distinct clusters (17) found smaller than n_clusters (42). Possibly due to duplicate points in X.\n",
      "  return fit_method(estimator, *args, **kwargs)\n",
      "c:\\Users\\acerone\\Documents\\Projets Python\\00_Venv\\090_WebScraping\\my_venv\\Lib\\site-packages\\sklearn\\base.py:1389: ConvergenceWarning: Number of distinct clusters (17) found smaller than n_clusters (43). Possibly due to duplicate points in X.\n",
      "  return fit_method(estimator, *args, **kwargs)\n",
      "c:\\Users\\acerone\\Documents\\Projets Python\\00_Venv\\090_WebScraping\\my_venv\\Lib\\site-packages\\sklearn\\base.py:1389: ConvergenceWarning: Number of distinct clusters (17) found smaller than n_clusters (44). Possibly due to duplicate points in X.\n",
      "  return fit_method(estimator, *args, **kwargs)\n",
      "c:\\Users\\acerone\\Documents\\Projets Python\\00_Venv\\090_WebScraping\\my_venv\\Lib\\site-packages\\sklearn\\base.py:1389: ConvergenceWarning: Number of distinct clusters (17) found smaller than n_clusters (45). Possibly due to duplicate points in X.\n",
      "  return fit_method(estimator, *args, **kwargs)\n",
      "c:\\Users\\acerone\\Documents\\Projets Python\\00_Venv\\090_WebScraping\\my_venv\\Lib\\site-packages\\sklearn\\base.py:1389: ConvergenceWarning: Number of distinct clusters (17) found smaller than n_clusters (46). Possibly due to duplicate points in X.\n",
      "  return fit_method(estimator, *args, **kwargs)\n",
      "c:\\Users\\acerone\\Documents\\Projets Python\\00_Venv\\090_WebScraping\\my_venv\\Lib\\site-packages\\sklearn\\base.py:1389: ConvergenceWarning: Number of distinct clusters (17) found smaller than n_clusters (47). Possibly due to duplicate points in X.\n",
      "  return fit_method(estimator, *args, **kwargs)\n",
      "c:\\Users\\acerone\\Documents\\Projets Python\\00_Venv\\090_WebScraping\\my_venv\\Lib\\site-packages\\sklearn\\base.py:1389: ConvergenceWarning: Number of distinct clusters (17) found smaller than n_clusters (48). Possibly due to duplicate points in X.\n",
      "  return fit_method(estimator, *args, **kwargs)\n",
      "c:\\Users\\acerone\\Documents\\Projets Python\\00_Venv\\090_WebScraping\\my_venv\\Lib\\site-packages\\sklearn\\base.py:1389: ConvergenceWarning: Number of distinct clusters (17) found smaller than n_clusters (49). Possibly due to duplicate points in X.\n",
      "  return fit_method(estimator, *args, **kwargs)\n",
      "c:\\Users\\acerone\\Documents\\Projets Python\\00_Venv\\090_WebScraping\\my_venv\\Lib\\site-packages\\sklearn\\base.py:1389: ConvergenceWarning: Number of distinct clusters (17) found smaller than n_clusters (50). Possibly due to duplicate points in X.\n",
      "  return fit_method(estimator, *args, **kwargs)\n",
      "c:\\Users\\acerone\\Documents\\Projets Python\\00_Venv\\090_WebScraping\\my_venv\\Lib\\site-packages\\sklearn\\base.py:1389: ConvergenceWarning: Number of distinct clusters (17) found smaller than n_clusters (51). Possibly due to duplicate points in X.\n",
      "  return fit_method(estimator, *args, **kwargs)\n",
      "c:\\Users\\acerone\\Documents\\Projets Python\\00_Venv\\090_WebScraping\\my_venv\\Lib\\site-packages\\sklearn\\base.py:1389: ConvergenceWarning: Number of distinct clusters (17) found smaller than n_clusters (52). Possibly due to duplicate points in X.\n",
      "  return fit_method(estimator, *args, **kwargs)\n",
      "c:\\Users\\acerone\\Documents\\Projets Python\\00_Venv\\090_WebScraping\\my_venv\\Lib\\site-packages\\sklearn\\base.py:1389: ConvergenceWarning: Number of distinct clusters (17) found smaller than n_clusters (53). Possibly due to duplicate points in X.\n",
      "  return fit_method(estimator, *args, **kwargs)\n",
      "c:\\Users\\acerone\\Documents\\Projets Python\\00_Venv\\090_WebScraping\\my_venv\\Lib\\site-packages\\sklearn\\base.py:1389: ConvergenceWarning: Number of distinct clusters (17) found smaller than n_clusters (54). Possibly due to duplicate points in X.\n",
      "  return fit_method(estimator, *args, **kwargs)\n",
      "c:\\Users\\acerone\\Documents\\Projets Python\\00_Venv\\090_WebScraping\\my_venv\\Lib\\site-packages\\sklearn\\base.py:1389: ConvergenceWarning: Number of distinct clusters (17) found smaller than n_clusters (55). Possibly due to duplicate points in X.\n",
      "  return fit_method(estimator, *args, **kwargs)\n",
      "c:\\Users\\acerone\\Documents\\Projets Python\\00_Venv\\090_WebScraping\\my_venv\\Lib\\site-packages\\sklearn\\base.py:1389: ConvergenceWarning: Number of distinct clusters (17) found smaller than n_clusters (56). Possibly due to duplicate points in X.\n",
      "  return fit_method(estimator, *args, **kwargs)\n",
      "c:\\Users\\acerone\\Documents\\Projets Python\\00_Venv\\090_WebScraping\\my_venv\\Lib\\site-packages\\sklearn\\base.py:1389: ConvergenceWarning: Number of distinct clusters (17) found smaller than n_clusters (57). Possibly due to duplicate points in X.\n",
      "  return fit_method(estimator, *args, **kwargs)\n",
      "c:\\Users\\acerone\\Documents\\Projets Python\\00_Venv\\090_WebScraping\\my_venv\\Lib\\site-packages\\sklearn\\base.py:1389: ConvergenceWarning: Number of distinct clusters (17) found smaller than n_clusters (58). Possibly due to duplicate points in X.\n",
      "  return fit_method(estimator, *args, **kwargs)\n",
      "c:\\Users\\acerone\\Documents\\Projets Python\\00_Venv\\090_WebScraping\\my_venv\\Lib\\site-packages\\sklearn\\base.py:1389: ConvergenceWarning: Number of distinct clusters (17) found smaller than n_clusters (59). Possibly due to duplicate points in X.\n",
      "  return fit_method(estimator, *args, **kwargs)\n",
      "c:\\Users\\acerone\\Documents\\Projets Python\\00_Venv\\090_WebScraping\\my_venv\\Lib\\site-packages\\sklearn\\base.py:1389: ConvergenceWarning: Number of distinct clusters (17) found smaller than n_clusters (60). Possibly due to duplicate points in X.\n",
      "  return fit_method(estimator, *args, **kwargs)\n",
      "c:\\Users\\acerone\\Documents\\Projets Python\\00_Venv\\090_WebScraping\\my_venv\\Lib\\site-packages\\sklearn\\base.py:1389: ConvergenceWarning: Number of distinct clusters (17) found smaller than n_clusters (61). Possibly due to duplicate points in X.\n",
      "  return fit_method(estimator, *args, **kwargs)\n",
      "c:\\Users\\acerone\\Documents\\Projets Python\\00_Venv\\090_WebScraping\\my_venv\\Lib\\site-packages\\sklearn\\base.py:1389: ConvergenceWarning: Number of distinct clusters (17) found smaller than n_clusters (62). Possibly due to duplicate points in X.\n",
      "  return fit_method(estimator, *args, **kwargs)\n",
      "c:\\Users\\acerone\\Documents\\Projets Python\\00_Venv\\090_WebScraping\\my_venv\\Lib\\site-packages\\sklearn\\base.py:1389: ConvergenceWarning: Number of distinct clusters (17) found smaller than n_clusters (63). Possibly due to duplicate points in X.\n",
      "  return fit_method(estimator, *args, **kwargs)\n",
      "c:\\Users\\acerone\\Documents\\Projets Python\\00_Venv\\090_WebScraping\\my_venv\\Lib\\site-packages\\sklearn\\base.py:1389: ConvergenceWarning: Number of distinct clusters (17) found smaller than n_clusters (64). Possibly due to duplicate points in X.\n",
      "  return fit_method(estimator, *args, **kwargs)\n",
      "c:\\Users\\acerone\\Documents\\Projets Python\\00_Venv\\090_WebScraping\\my_venv\\Lib\\site-packages\\sklearn\\base.py:1389: ConvergenceWarning: Number of distinct clusters (17) found smaller than n_clusters (65). Possibly due to duplicate points in X.\n",
      "  return fit_method(estimator, *args, **kwargs)\n",
      "c:\\Users\\acerone\\Documents\\Projets Python\\00_Venv\\090_WebScraping\\my_venv\\Lib\\site-packages\\sklearn\\base.py:1389: ConvergenceWarning: Number of distinct clusters (17) found smaller than n_clusters (66). Possibly due to duplicate points in X.\n",
      "  return fit_method(estimator, *args, **kwargs)\n",
      "c:\\Users\\acerone\\Documents\\Projets Python\\00_Venv\\090_WebScraping\\my_venv\\Lib\\site-packages\\sklearn\\base.py:1389: ConvergenceWarning: Number of distinct clusters (17) found smaller than n_clusters (67). Possibly due to duplicate points in X.\n",
      "  return fit_method(estimator, *args, **kwargs)\n",
      "c:\\Users\\acerone\\Documents\\Projets Python\\00_Venv\\090_WebScraping\\my_venv\\Lib\\site-packages\\sklearn\\base.py:1389: ConvergenceWarning: Number of distinct clusters (17) found smaller than n_clusters (68). Possibly due to duplicate points in X.\n",
      "  return fit_method(estimator, *args, **kwargs)\n",
      "c:\\Users\\acerone\\Documents\\Projets Python\\00_Venv\\090_WebScraping\\my_venv\\Lib\\site-packages\\sklearn\\base.py:1389: ConvergenceWarning: Number of distinct clusters (17) found smaller than n_clusters (69). Possibly due to duplicate points in X.\n",
      "  return fit_method(estimator, *args, **kwargs)\n",
      "c:\\Users\\acerone\\Documents\\Projets Python\\00_Venv\\090_WebScraping\\my_venv\\Lib\\site-packages\\sklearn\\base.py:1389: ConvergenceWarning: Number of distinct clusters (17) found smaller than n_clusters (70). Possibly due to duplicate points in X.\n",
      "  return fit_method(estimator, *args, **kwargs)\n",
      "c:\\Users\\acerone\\Documents\\Projets Python\\00_Venv\\090_WebScraping\\my_venv\\Lib\\site-packages\\sklearn\\base.py:1389: ConvergenceWarning: Number of distinct clusters (17) found smaller than n_clusters (71). Possibly due to duplicate points in X.\n",
      "  return fit_method(estimator, *args, **kwargs)\n",
      "c:\\Users\\acerone\\Documents\\Projets Python\\00_Venv\\090_WebScraping\\my_venv\\Lib\\site-packages\\sklearn\\base.py:1389: ConvergenceWarning: Number of distinct clusters (17) found smaller than n_clusters (72). Possibly due to duplicate points in X.\n",
      "  return fit_method(estimator, *args, **kwargs)\n",
      "c:\\Users\\acerone\\Documents\\Projets Python\\00_Venv\\090_WebScraping\\my_venv\\Lib\\site-packages\\sklearn\\base.py:1389: ConvergenceWarning: Number of distinct clusters (17) found smaller than n_clusters (73). Possibly due to duplicate points in X.\n",
      "  return fit_method(estimator, *args, **kwargs)\n",
      "c:\\Users\\acerone\\Documents\\Projets Python\\00_Venv\\090_WebScraping\\my_venv\\Lib\\site-packages\\sklearn\\base.py:1389: ConvergenceWarning: Number of distinct clusters (17) found smaller than n_clusters (74). Possibly due to duplicate points in X.\n",
      "  return fit_method(estimator, *args, **kwargs)\n",
      "c:\\Users\\acerone\\Documents\\Projets Python\\00_Venv\\090_WebScraping\\my_venv\\Lib\\site-packages\\sklearn\\base.py:1389: ConvergenceWarning: Number of distinct clusters (17) found smaller than n_clusters (75). Possibly due to duplicate points in X.\n",
      "  return fit_method(estimator, *args, **kwargs)\n",
      "c:\\Users\\acerone\\Documents\\Projets Python\\00_Venv\\090_WebScraping\\my_venv\\Lib\\site-packages\\sklearn\\base.py:1389: ConvergenceWarning: Number of distinct clusters (17) found smaller than n_clusters (76). Possibly due to duplicate points in X.\n",
      "  return fit_method(estimator, *args, **kwargs)\n",
      "c:\\Users\\acerone\\Documents\\Projets Python\\00_Venv\\090_WebScraping\\my_venv\\Lib\\site-packages\\sklearn\\base.py:1389: ConvergenceWarning: Number of distinct clusters (17) found smaller than n_clusters (77). Possibly due to duplicate points in X.\n",
      "  return fit_method(estimator, *args, **kwargs)\n",
      "c:\\Users\\acerone\\Documents\\Projets Python\\00_Venv\\090_WebScraping\\my_venv\\Lib\\site-packages\\sklearn\\base.py:1389: ConvergenceWarning: Number of distinct clusters (17) found smaller than n_clusters (78). Possibly due to duplicate points in X.\n",
      "  return fit_method(estimator, *args, **kwargs)\n",
      "c:\\Users\\acerone\\Documents\\Projets Python\\00_Venv\\090_WebScraping\\my_venv\\Lib\\site-packages\\sklearn\\base.py:1389: ConvergenceWarning: Number of distinct clusters (17) found smaller than n_clusters (79). Possibly due to duplicate points in X.\n",
      "  return fit_method(estimator, *args, **kwargs)\n",
      "c:\\Users\\acerone\\Documents\\Projets Python\\00_Venv\\090_WebScraping\\my_venv\\Lib\\site-packages\\sklearn\\base.py:1389: ConvergenceWarning: Number of distinct clusters (17) found smaller than n_clusters (80). Possibly due to duplicate points in X.\n",
      "  return fit_method(estimator, *args, **kwargs)\n",
      "c:\\Users\\acerone\\Documents\\Projets Python\\00_Venv\\090_WebScraping\\my_venv\\Lib\\site-packages\\sklearn\\base.py:1389: ConvergenceWarning: Number of distinct clusters (17) found smaller than n_clusters (81). Possibly due to duplicate points in X.\n",
      "  return fit_method(estimator, *args, **kwargs)\n",
      "c:\\Users\\acerone\\Documents\\Projets Python\\00_Venv\\090_WebScraping\\my_venv\\Lib\\site-packages\\sklearn\\base.py:1389: ConvergenceWarning: Number of distinct clusters (17) found smaller than n_clusters (82). Possibly due to duplicate points in X.\n",
      "  return fit_method(estimator, *args, **kwargs)\n",
      "c:\\Users\\acerone\\Documents\\Projets Python\\00_Venv\\090_WebScraping\\my_venv\\Lib\\site-packages\\sklearn\\base.py:1389: ConvergenceWarning: Number of distinct clusters (17) found smaller than n_clusters (83). Possibly due to duplicate points in X.\n",
      "  return fit_method(estimator, *args, **kwargs)\n",
      "c:\\Users\\acerone\\Documents\\Projets Python\\00_Venv\\090_WebScraping\\my_venv\\Lib\\site-packages\\sklearn\\base.py:1389: ConvergenceWarning: Number of distinct clusters (17) found smaller than n_clusters (84). Possibly due to duplicate points in X.\n",
      "  return fit_method(estimator, *args, **kwargs)\n",
      "c:\\Users\\acerone\\Documents\\Projets Python\\00_Venv\\090_WebScraping\\my_venv\\Lib\\site-packages\\sklearn\\base.py:1389: ConvergenceWarning: Number of distinct clusters (17) found smaller than n_clusters (85). Possibly due to duplicate points in X.\n",
      "  return fit_method(estimator, *args, **kwargs)\n",
      "c:\\Users\\acerone\\Documents\\Projets Python\\00_Venv\\090_WebScraping\\my_venv\\Lib\\site-packages\\sklearn\\base.py:1389: ConvergenceWarning: Number of distinct clusters (17) found smaller than n_clusters (86). Possibly due to duplicate points in X.\n",
      "  return fit_method(estimator, *args, **kwargs)\n",
      "c:\\Users\\acerone\\Documents\\Projets Python\\00_Venv\\090_WebScraping\\my_venv\\Lib\\site-packages\\sklearn\\base.py:1389: ConvergenceWarning: Number of distinct clusters (17) found smaller than n_clusters (87). Possibly due to duplicate points in X.\n",
      "  return fit_method(estimator, *args, **kwargs)\n",
      "c:\\Users\\acerone\\Documents\\Projets Python\\00_Venv\\090_WebScraping\\my_venv\\Lib\\site-packages\\sklearn\\base.py:1389: ConvergenceWarning: Number of distinct clusters (17) found smaller than n_clusters (88). Possibly due to duplicate points in X.\n",
      "  return fit_method(estimator, *args, **kwargs)\n",
      "c:\\Users\\acerone\\Documents\\Projets Python\\00_Venv\\090_WebScraping\\my_venv\\Lib\\site-packages\\sklearn\\base.py:1389: ConvergenceWarning: Number of distinct clusters (17) found smaller than n_clusters (89). Possibly due to duplicate points in X.\n",
      "  return fit_method(estimator, *args, **kwargs)\n",
      "c:\\Users\\acerone\\Documents\\Projets Python\\00_Venv\\090_WebScraping\\my_venv\\Lib\\site-packages\\sklearn\\base.py:1389: ConvergenceWarning: Number of distinct clusters (17) found smaller than n_clusters (90). Possibly due to duplicate points in X.\n",
      "  return fit_method(estimator, *args, **kwargs)\n",
      "c:\\Users\\acerone\\Documents\\Projets Python\\00_Venv\\090_WebScraping\\my_venv\\Lib\\site-packages\\sklearn\\base.py:1389: ConvergenceWarning: Number of distinct clusters (17) found smaller than n_clusters (91). Possibly due to duplicate points in X.\n",
      "  return fit_method(estimator, *args, **kwargs)\n",
      "c:\\Users\\acerone\\Documents\\Projets Python\\00_Venv\\090_WebScraping\\my_venv\\Lib\\site-packages\\sklearn\\base.py:1389: ConvergenceWarning: Number of distinct clusters (17) found smaller than n_clusters (92). Possibly due to duplicate points in X.\n",
      "  return fit_method(estimator, *args, **kwargs)\n",
      "c:\\Users\\acerone\\Documents\\Projets Python\\00_Venv\\090_WebScraping\\my_venv\\Lib\\site-packages\\sklearn\\base.py:1389: ConvergenceWarning: Number of distinct clusters (17) found smaller than n_clusters (93). Possibly due to duplicate points in X.\n",
      "  return fit_method(estimator, *args, **kwargs)\n",
      "c:\\Users\\acerone\\Documents\\Projets Python\\00_Venv\\090_WebScraping\\my_venv\\Lib\\site-packages\\sklearn\\base.py:1389: ConvergenceWarning: Number of distinct clusters (17) found smaller than n_clusters (94). Possibly due to duplicate points in X.\n",
      "  return fit_method(estimator, *args, **kwargs)\n",
      "c:\\Users\\acerone\\Documents\\Projets Python\\00_Venv\\090_WebScraping\\my_venv\\Lib\\site-packages\\sklearn\\base.py:1389: ConvergenceWarning: Number of distinct clusters (17) found smaller than n_clusters (95). Possibly due to duplicate points in X.\n",
      "  return fit_method(estimator, *args, **kwargs)\n",
      "c:\\Users\\acerone\\Documents\\Projets Python\\00_Venv\\090_WebScraping\\my_venv\\Lib\\site-packages\\sklearn\\base.py:1389: ConvergenceWarning: Number of distinct clusters (17) found smaller than n_clusters (96). Possibly due to duplicate points in X.\n",
      "  return fit_method(estimator, *args, **kwargs)\n",
      "c:\\Users\\acerone\\Documents\\Projets Python\\00_Venv\\090_WebScraping\\my_venv\\Lib\\site-packages\\sklearn\\base.py:1389: ConvergenceWarning: Number of distinct clusters (17) found smaller than n_clusters (97). Possibly due to duplicate points in X.\n",
      "  return fit_method(estimator, *args, **kwargs)\n",
      "c:\\Users\\acerone\\Documents\\Projets Python\\00_Venv\\090_WebScraping\\my_venv\\Lib\\site-packages\\sklearn\\base.py:1389: ConvergenceWarning: Number of distinct clusters (17) found smaller than n_clusters (98). Possibly due to duplicate points in X.\n",
      "  return fit_method(estimator, *args, **kwargs)\n",
      "c:\\Users\\acerone\\Documents\\Projets Python\\00_Venv\\090_WebScraping\\my_venv\\Lib\\site-packages\\sklearn\\base.py:1389: ConvergenceWarning: Number of distinct clusters (17) found smaller than n_clusters (99). Possibly due to duplicate points in X.\n",
      "  return fit_method(estimator, *args, **kwargs)\n"
     ]
    },
    {
     "data": {
      "application/vnd.plotly.v1+json": {
       "config": {
        "plotlyServerURL": "https://plot.ly"
       },
       "data": [
        {
         "mode": "lines+markers",
         "type": "scatter",
         "x": [
          10,
          11,
          12,
          13,
          14,
          15,
          16,
          17,
          18,
          19,
          20,
          21,
          22,
          23,
          24,
          25,
          26,
          27,
          28,
          29,
          30,
          31,
          32,
          33,
          34,
          35,
          36,
          37,
          38,
          39,
          40,
          41,
          42,
          43,
          44,
          45,
          46,
          47,
          48,
          49,
          50,
          51,
          52,
          53,
          54,
          55,
          56,
          57,
          58,
          59,
          60,
          61,
          62,
          63,
          64,
          65,
          66,
          67,
          68,
          69,
          70,
          71,
          72,
          73,
          74,
          75,
          76,
          77,
          78,
          79,
          80,
          81,
          82,
          83,
          84,
          85,
          86,
          87,
          88,
          89,
          90,
          91,
          92,
          93,
          94,
          95,
          96,
          97,
          98,
          99
         ],
         "y": [
          1.167937741082106,
          0.6621669124689036,
          0.3382671302544107,
          0.19021357039614173,
          0.09287280966530276,
          0.02999989406027992,
          0.011559348600834629,
          0,
          1.4432899320127035e-15,
          0,
          0,
          0,
          0,
          0,
          0,
          0,
          0,
          0,
          0,
          0,
          0,
          0,
          0,
          0,
          0,
          0,
          0,
          0,
          0,
          0,
          0,
          0,
          0,
          0,
          0,
          0,
          1.4432899320127035e-15,
          0,
          0,
          0,
          0,
          0,
          1.4432899320127035e-15,
          0,
          0,
          0,
          0,
          0,
          0,
          0,
          0,
          1.4432899320127035e-15,
          0,
          0,
          0,
          0,
          0,
          2.886579864025407e-15,
          0,
          1.4432899320127035e-15,
          0,
          0,
          0,
          0,
          0,
          0,
          1.4432899320127035e-15,
          0,
          0,
          0,
          0,
          0,
          0,
          0,
          0,
          0,
          0,
          0,
          2.886579864025407e-15,
          0,
          0,
          0,
          0,
          0,
          0,
          0,
          1.4432899320127035e-15,
          0,
          0,
          0
         ]
        }
       ],
       "layout": {
        "template": {
         "data": {
          "bar": [
           {
            "error_x": {
             "color": "#2a3f5f"
            },
            "error_y": {
             "color": "#2a3f5f"
            },
            "marker": {
             "line": {
              "color": "#E5ECF6",
              "width": 0.5
             },
             "pattern": {
              "fillmode": "overlay",
              "size": 10,
              "solidity": 0.2
             }
            },
            "type": "bar"
           }
          ],
          "barpolar": [
           {
            "marker": {
             "line": {
              "color": "#E5ECF6",
              "width": 0.5
             },
             "pattern": {
              "fillmode": "overlay",
              "size": 10,
              "solidity": 0.2
             }
            },
            "type": "barpolar"
           }
          ],
          "carpet": [
           {
            "aaxis": {
             "endlinecolor": "#2a3f5f",
             "gridcolor": "white",
             "linecolor": "white",
             "minorgridcolor": "white",
             "startlinecolor": "#2a3f5f"
            },
            "baxis": {
             "endlinecolor": "#2a3f5f",
             "gridcolor": "white",
             "linecolor": "white",
             "minorgridcolor": "white",
             "startlinecolor": "#2a3f5f"
            },
            "type": "carpet"
           }
          ],
          "choropleth": [
           {
            "colorbar": {
             "outlinewidth": 0,
             "ticks": ""
            },
            "type": "choropleth"
           }
          ],
          "contour": [
           {
            "colorbar": {
             "outlinewidth": 0,
             "ticks": ""
            },
            "colorscale": [
             [
              0,
              "#0d0887"
             ],
             [
              0.1111111111111111,
              "#46039f"
             ],
             [
              0.2222222222222222,
              "#7201a8"
             ],
             [
              0.3333333333333333,
              "#9c179e"
             ],
             [
              0.4444444444444444,
              "#bd3786"
             ],
             [
              0.5555555555555556,
              "#d8576b"
             ],
             [
              0.6666666666666666,
              "#ed7953"
             ],
             [
              0.7777777777777778,
              "#fb9f3a"
             ],
             [
              0.8888888888888888,
              "#fdca26"
             ],
             [
              1,
              "#f0f921"
             ]
            ],
            "type": "contour"
           }
          ],
          "contourcarpet": [
           {
            "colorbar": {
             "outlinewidth": 0,
             "ticks": ""
            },
            "type": "contourcarpet"
           }
          ],
          "heatmap": [
           {
            "colorbar": {
             "outlinewidth": 0,
             "ticks": ""
            },
            "colorscale": [
             [
              0,
              "#0d0887"
             ],
             [
              0.1111111111111111,
              "#46039f"
             ],
             [
              0.2222222222222222,
              "#7201a8"
             ],
             [
              0.3333333333333333,
              "#9c179e"
             ],
             [
              0.4444444444444444,
              "#bd3786"
             ],
             [
              0.5555555555555556,
              "#d8576b"
             ],
             [
              0.6666666666666666,
              "#ed7953"
             ],
             [
              0.7777777777777778,
              "#fb9f3a"
             ],
             [
              0.8888888888888888,
              "#fdca26"
             ],
             [
              1,
              "#f0f921"
             ]
            ],
            "type": "heatmap"
           }
          ],
          "heatmapgl": [
           {
            "colorbar": {
             "outlinewidth": 0,
             "ticks": ""
            },
            "colorscale": [
             [
              0,
              "#0d0887"
             ],
             [
              0.1111111111111111,
              "#46039f"
             ],
             [
              0.2222222222222222,
              "#7201a8"
             ],
             [
              0.3333333333333333,
              "#9c179e"
             ],
             [
              0.4444444444444444,
              "#bd3786"
             ],
             [
              0.5555555555555556,
              "#d8576b"
             ],
             [
              0.6666666666666666,
              "#ed7953"
             ],
             [
              0.7777777777777778,
              "#fb9f3a"
             ],
             [
              0.8888888888888888,
              "#fdca26"
             ],
             [
              1,
              "#f0f921"
             ]
            ],
            "type": "heatmapgl"
           }
          ],
          "histogram": [
           {
            "marker": {
             "pattern": {
              "fillmode": "overlay",
              "size": 10,
              "solidity": 0.2
             }
            },
            "type": "histogram"
           }
          ],
          "histogram2d": [
           {
            "colorbar": {
             "outlinewidth": 0,
             "ticks": ""
            },
            "colorscale": [
             [
              0,
              "#0d0887"
             ],
             [
              0.1111111111111111,
              "#46039f"
             ],
             [
              0.2222222222222222,
              "#7201a8"
             ],
             [
              0.3333333333333333,
              "#9c179e"
             ],
             [
              0.4444444444444444,
              "#bd3786"
             ],
             [
              0.5555555555555556,
              "#d8576b"
             ],
             [
              0.6666666666666666,
              "#ed7953"
             ],
             [
              0.7777777777777778,
              "#fb9f3a"
             ],
             [
              0.8888888888888888,
              "#fdca26"
             ],
             [
              1,
              "#f0f921"
             ]
            ],
            "type": "histogram2d"
           }
          ],
          "histogram2dcontour": [
           {
            "colorbar": {
             "outlinewidth": 0,
             "ticks": ""
            },
            "colorscale": [
             [
              0,
              "#0d0887"
             ],
             [
              0.1111111111111111,
              "#46039f"
             ],
             [
              0.2222222222222222,
              "#7201a8"
             ],
             [
              0.3333333333333333,
              "#9c179e"
             ],
             [
              0.4444444444444444,
              "#bd3786"
             ],
             [
              0.5555555555555556,
              "#d8576b"
             ],
             [
              0.6666666666666666,
              "#ed7953"
             ],
             [
              0.7777777777777778,
              "#fb9f3a"
             ],
             [
              0.8888888888888888,
              "#fdca26"
             ],
             [
              1,
              "#f0f921"
             ]
            ],
            "type": "histogram2dcontour"
           }
          ],
          "mesh3d": [
           {
            "colorbar": {
             "outlinewidth": 0,
             "ticks": ""
            },
            "type": "mesh3d"
           }
          ],
          "parcoords": [
           {
            "line": {
             "colorbar": {
              "outlinewidth": 0,
              "ticks": ""
             }
            },
            "type": "parcoords"
           }
          ],
          "pie": [
           {
            "automargin": true,
            "type": "pie"
           }
          ],
          "scatter": [
           {
            "fillpattern": {
             "fillmode": "overlay",
             "size": 10,
             "solidity": 0.2
            },
            "type": "scatter"
           }
          ],
          "scatter3d": [
           {
            "line": {
             "colorbar": {
              "outlinewidth": 0,
              "ticks": ""
             }
            },
            "marker": {
             "colorbar": {
              "outlinewidth": 0,
              "ticks": ""
             }
            },
            "type": "scatter3d"
           }
          ],
          "scattercarpet": [
           {
            "marker": {
             "colorbar": {
              "outlinewidth": 0,
              "ticks": ""
             }
            },
            "type": "scattercarpet"
           }
          ],
          "scattergeo": [
           {
            "marker": {
             "colorbar": {
              "outlinewidth": 0,
              "ticks": ""
             }
            },
            "type": "scattergeo"
           }
          ],
          "scattergl": [
           {
            "marker": {
             "colorbar": {
              "outlinewidth": 0,
              "ticks": ""
             }
            },
            "type": "scattergl"
           }
          ],
          "scattermapbox": [
           {
            "marker": {
             "colorbar": {
              "outlinewidth": 0,
              "ticks": ""
             }
            },
            "type": "scattermapbox"
           }
          ],
          "scatterpolar": [
           {
            "marker": {
             "colorbar": {
              "outlinewidth": 0,
              "ticks": ""
             }
            },
            "type": "scatterpolar"
           }
          ],
          "scatterpolargl": [
           {
            "marker": {
             "colorbar": {
              "outlinewidth": 0,
              "ticks": ""
             }
            },
            "type": "scatterpolargl"
           }
          ],
          "scatterternary": [
           {
            "marker": {
             "colorbar": {
              "outlinewidth": 0,
              "ticks": ""
             }
            },
            "type": "scatterternary"
           }
          ],
          "surface": [
           {
            "colorbar": {
             "outlinewidth": 0,
             "ticks": ""
            },
            "colorscale": [
             [
              0,
              "#0d0887"
             ],
             [
              0.1111111111111111,
              "#46039f"
             ],
             [
              0.2222222222222222,
              "#7201a8"
             ],
             [
              0.3333333333333333,
              "#9c179e"
             ],
             [
              0.4444444444444444,
              "#bd3786"
             ],
             [
              0.5555555555555556,
              "#d8576b"
             ],
             [
              0.6666666666666666,
              "#ed7953"
             ],
             [
              0.7777777777777778,
              "#fb9f3a"
             ],
             [
              0.8888888888888888,
              "#fdca26"
             ],
             [
              1,
              "#f0f921"
             ]
            ],
            "type": "surface"
           }
          ],
          "table": [
           {
            "cells": {
             "fill": {
              "color": "#EBF0F8"
             },
             "line": {
              "color": "white"
             }
            },
            "header": {
             "fill": {
              "color": "#C8D4E3"
             },
             "line": {
              "color": "white"
             }
            },
            "type": "table"
           }
          ]
         },
         "layout": {
          "annotationdefaults": {
           "arrowcolor": "#2a3f5f",
           "arrowhead": 0,
           "arrowwidth": 1
          },
          "autotypenumbers": "strict",
          "coloraxis": {
           "colorbar": {
            "outlinewidth": 0,
            "ticks": ""
           }
          },
          "colorscale": {
           "diverging": [
            [
             0,
             "#8e0152"
            ],
            [
             0.1,
             "#c51b7d"
            ],
            [
             0.2,
             "#de77ae"
            ],
            [
             0.3,
             "#f1b6da"
            ],
            [
             0.4,
             "#fde0ef"
            ],
            [
             0.5,
             "#f7f7f7"
            ],
            [
             0.6,
             "#e6f5d0"
            ],
            [
             0.7,
             "#b8e186"
            ],
            [
             0.8,
             "#7fbc41"
            ],
            [
             0.9,
             "#4d9221"
            ],
            [
             1,
             "#276419"
            ]
           ],
           "sequential": [
            [
             0,
             "#0d0887"
            ],
            [
             0.1111111111111111,
             "#46039f"
            ],
            [
             0.2222222222222222,
             "#7201a8"
            ],
            [
             0.3333333333333333,
             "#9c179e"
            ],
            [
             0.4444444444444444,
             "#bd3786"
            ],
            [
             0.5555555555555556,
             "#d8576b"
            ],
            [
             0.6666666666666666,
             "#ed7953"
            ],
            [
             0.7777777777777778,
             "#fb9f3a"
            ],
            [
             0.8888888888888888,
             "#fdca26"
            ],
            [
             1,
             "#f0f921"
            ]
           ],
           "sequentialminus": [
            [
             0,
             "#0d0887"
            ],
            [
             0.1111111111111111,
             "#46039f"
            ],
            [
             0.2222222222222222,
             "#7201a8"
            ],
            [
             0.3333333333333333,
             "#9c179e"
            ],
            [
             0.4444444444444444,
             "#bd3786"
            ],
            [
             0.5555555555555556,
             "#d8576b"
            ],
            [
             0.6666666666666666,
             "#ed7953"
            ],
            [
             0.7777777777777778,
             "#fb9f3a"
            ],
            [
             0.8888888888888888,
             "#fdca26"
            ],
            [
             1,
             "#f0f921"
            ]
           ]
          },
          "colorway": [
           "#636efa",
           "#EF553B",
           "#00cc96",
           "#ab63fa",
           "#FFA15A",
           "#19d3f3",
           "#FF6692",
           "#B6E880",
           "#FF97FF",
           "#FECB52"
          ],
          "font": {
           "color": "#2a3f5f"
          },
          "geo": {
           "bgcolor": "white",
           "lakecolor": "white",
           "landcolor": "#E5ECF6",
           "showlakes": true,
           "showland": true,
           "subunitcolor": "white"
          },
          "hoverlabel": {
           "align": "left"
          },
          "hovermode": "closest",
          "mapbox": {
           "style": "light"
          },
          "paper_bgcolor": "white",
          "plot_bgcolor": "#E5ECF6",
          "polar": {
           "angularaxis": {
            "gridcolor": "white",
            "linecolor": "white",
            "ticks": ""
           },
           "bgcolor": "#E5ECF6",
           "radialaxis": {
            "gridcolor": "white",
            "linecolor": "white",
            "ticks": ""
           }
          },
          "scene": {
           "xaxis": {
            "backgroundcolor": "#E5ECF6",
            "gridcolor": "white",
            "gridwidth": 2,
            "linecolor": "white",
            "showbackground": true,
            "ticks": "",
            "zerolinecolor": "white"
           },
           "yaxis": {
            "backgroundcolor": "#E5ECF6",
            "gridcolor": "white",
            "gridwidth": 2,
            "linecolor": "white",
            "showbackground": true,
            "ticks": "",
            "zerolinecolor": "white"
           },
           "zaxis": {
            "backgroundcolor": "#E5ECF6",
            "gridcolor": "white",
            "gridwidth": 2,
            "linecolor": "white",
            "showbackground": true,
            "ticks": "",
            "zerolinecolor": "white"
           }
          },
          "shapedefaults": {
           "line": {
            "color": "#2a3f5f"
           }
          },
          "ternary": {
           "aaxis": {
            "gridcolor": "white",
            "linecolor": "white",
            "ticks": ""
           },
           "baxis": {
            "gridcolor": "white",
            "linecolor": "white",
            "ticks": ""
           },
           "bgcolor": "#E5ECF6",
           "caxis": {
            "gridcolor": "white",
            "linecolor": "white",
            "ticks": ""
           }
          },
          "title": {
           "x": 0.05
          },
          "xaxis": {
           "automargin": true,
           "gridcolor": "white",
           "linecolor": "white",
           "ticks": "",
           "title": {
            "standoff": 15
           },
           "zerolinecolor": "white",
           "zerolinewidth": 2
          },
          "yaxis": {
           "automargin": true,
           "gridcolor": "white",
           "linecolor": "white",
           "ticks": "",
           "title": {
            "standoff": 15
           },
           "zerolinecolor": "white",
           "zerolinewidth": 2
          }
         }
        },
        "title": {
         "text": "Méthode du coude"
        },
        "xaxis": {
         "title": {
          "text": "Nombre de clusters"
         }
        },
        "yaxis": {
         "title": {
          "text": "SSE"
         }
        }
       }
      }
     },
     "metadata": {},
     "output_type": "display_data"
    },
    {
     "data": {
      "application/vnd.plotly.v1+json": {
       "config": {
        "plotlyServerURL": "https://plot.ly"
       },
       "data": [
        {
         "mode": "lines+markers",
         "type": "scatter",
         "x": [
          10,
          11,
          12,
          13,
          14,
          15,
          16,
          17,
          18,
          19,
          20,
          21,
          22,
          23,
          24,
          25,
          26,
          27,
          28,
          29,
          30,
          31,
          32,
          33,
          34,
          35,
          36,
          37,
          38,
          39,
          40,
          41,
          42,
          43,
          44,
          45,
          46,
          47,
          48,
          49,
          50,
          51,
          52,
          53,
          54,
          55,
          56,
          57,
          58,
          59,
          60,
          61,
          62,
          63,
          64,
          65,
          66,
          67,
          68,
          69,
          70,
          71,
          72,
          73,
          74,
          75,
          76,
          77,
          78,
          79,
          80,
          81,
          82,
          83,
          84,
          85,
          86,
          87,
          88,
          89,
          90,
          91,
          92,
          93,
          94,
          95,
          96,
          97,
          98,
          99
         ],
         "y": [
          0.9945468173242116,
          0.9969498440164771,
          0.9980630445807919,
          0.9982955941030882,
          0.998365294260953,
          0.9985726522086413,
          0.9985385096896974,
          0.998500299940012,
          0.998500299940012,
          0.998500299940012,
          0.998500299940012,
          0.998500299940012,
          0.998500299940012,
          0.998500299940012,
          0.998500299940012,
          0.998500299940012,
          0.998500299940012,
          0.998500299940012,
          0.998500299940012,
          0.998500299940012,
          0.998500299940012,
          0.998500299940012,
          0.998500299940012,
          0.998500299940012,
          0.998500299940012,
          0.998500299940012,
          0.998500299940012,
          0.998500299940012,
          0.998500299940012,
          0.998500299940012,
          0.998500299940012,
          0.998500299940012,
          0.998500299940012,
          0.998500299940012,
          0.998500299940012,
          0.998500299940012,
          0.998500299940012,
          0.998500299940012,
          0.998500299940012,
          0.998500299940012,
          0.998500299940012,
          0.998500299940012,
          0.998500299940012,
          0.998500299940012,
          0.998500299940012,
          0.998500299940012,
          0.998500299940012,
          0.998500299940012,
          0.998500299940012,
          0.998500299940012,
          0.998500299940012,
          0.998500299940012,
          0.998500299940012,
          0.998500299940012,
          0.998500299940012,
          0.998500299940012,
          0.998500299940012,
          0.998500299940012,
          0.998500299940012,
          0.998500299940012,
          0.998500299940012,
          0.998500299940012,
          0.998500299940012,
          0.998500299940012,
          0.998500299940012,
          0.998500299940012,
          0.998500299940012,
          0.998500299940012,
          0.998500299940012,
          0.998500299940012,
          0.998500299940012,
          0.998500299940012,
          0.998500299940012,
          0.998500299940012,
          0.998500299940012,
          0.998500299940012,
          0.998500299940012,
          0.998500299940012,
          0.998500299940012,
          0.998500299940012,
          0.998500299940012,
          0.998500299940012,
          0.998500299940012,
          0.998500299940012,
          0.998500299940012,
          0.998500299940012,
          0.998500299940012,
          0.998500299940012,
          0.998500299940012,
          0.998500299940012
         ]
        }
       ],
       "layout": {
        "template": {
         "data": {
          "bar": [
           {
            "error_x": {
             "color": "#2a3f5f"
            },
            "error_y": {
             "color": "#2a3f5f"
            },
            "marker": {
             "line": {
              "color": "#E5ECF6",
              "width": 0.5
             },
             "pattern": {
              "fillmode": "overlay",
              "size": 10,
              "solidity": 0.2
             }
            },
            "type": "bar"
           }
          ],
          "barpolar": [
           {
            "marker": {
             "line": {
              "color": "#E5ECF6",
              "width": 0.5
             },
             "pattern": {
              "fillmode": "overlay",
              "size": 10,
              "solidity": 0.2
             }
            },
            "type": "barpolar"
           }
          ],
          "carpet": [
           {
            "aaxis": {
             "endlinecolor": "#2a3f5f",
             "gridcolor": "white",
             "linecolor": "white",
             "minorgridcolor": "white",
             "startlinecolor": "#2a3f5f"
            },
            "baxis": {
             "endlinecolor": "#2a3f5f",
             "gridcolor": "white",
             "linecolor": "white",
             "minorgridcolor": "white",
             "startlinecolor": "#2a3f5f"
            },
            "type": "carpet"
           }
          ],
          "choropleth": [
           {
            "colorbar": {
             "outlinewidth": 0,
             "ticks": ""
            },
            "type": "choropleth"
           }
          ],
          "contour": [
           {
            "colorbar": {
             "outlinewidth": 0,
             "ticks": ""
            },
            "colorscale": [
             [
              0,
              "#0d0887"
             ],
             [
              0.1111111111111111,
              "#46039f"
             ],
             [
              0.2222222222222222,
              "#7201a8"
             ],
             [
              0.3333333333333333,
              "#9c179e"
             ],
             [
              0.4444444444444444,
              "#bd3786"
             ],
             [
              0.5555555555555556,
              "#d8576b"
             ],
             [
              0.6666666666666666,
              "#ed7953"
             ],
             [
              0.7777777777777778,
              "#fb9f3a"
             ],
             [
              0.8888888888888888,
              "#fdca26"
             ],
             [
              1,
              "#f0f921"
             ]
            ],
            "type": "contour"
           }
          ],
          "contourcarpet": [
           {
            "colorbar": {
             "outlinewidth": 0,
             "ticks": ""
            },
            "type": "contourcarpet"
           }
          ],
          "heatmap": [
           {
            "colorbar": {
             "outlinewidth": 0,
             "ticks": ""
            },
            "colorscale": [
             [
              0,
              "#0d0887"
             ],
             [
              0.1111111111111111,
              "#46039f"
             ],
             [
              0.2222222222222222,
              "#7201a8"
             ],
             [
              0.3333333333333333,
              "#9c179e"
             ],
             [
              0.4444444444444444,
              "#bd3786"
             ],
             [
              0.5555555555555556,
              "#d8576b"
             ],
             [
              0.6666666666666666,
              "#ed7953"
             ],
             [
              0.7777777777777778,
              "#fb9f3a"
             ],
             [
              0.8888888888888888,
              "#fdca26"
             ],
             [
              1,
              "#f0f921"
             ]
            ],
            "type": "heatmap"
           }
          ],
          "heatmapgl": [
           {
            "colorbar": {
             "outlinewidth": 0,
             "ticks": ""
            },
            "colorscale": [
             [
              0,
              "#0d0887"
             ],
             [
              0.1111111111111111,
              "#46039f"
             ],
             [
              0.2222222222222222,
              "#7201a8"
             ],
             [
              0.3333333333333333,
              "#9c179e"
             ],
             [
              0.4444444444444444,
              "#bd3786"
             ],
             [
              0.5555555555555556,
              "#d8576b"
             ],
             [
              0.6666666666666666,
              "#ed7953"
             ],
             [
              0.7777777777777778,
              "#fb9f3a"
             ],
             [
              0.8888888888888888,
              "#fdca26"
             ],
             [
              1,
              "#f0f921"
             ]
            ],
            "type": "heatmapgl"
           }
          ],
          "histogram": [
           {
            "marker": {
             "pattern": {
              "fillmode": "overlay",
              "size": 10,
              "solidity": 0.2
             }
            },
            "type": "histogram"
           }
          ],
          "histogram2d": [
           {
            "colorbar": {
             "outlinewidth": 0,
             "ticks": ""
            },
            "colorscale": [
             [
              0,
              "#0d0887"
             ],
             [
              0.1111111111111111,
              "#46039f"
             ],
             [
              0.2222222222222222,
              "#7201a8"
             ],
             [
              0.3333333333333333,
              "#9c179e"
             ],
             [
              0.4444444444444444,
              "#bd3786"
             ],
             [
              0.5555555555555556,
              "#d8576b"
             ],
             [
              0.6666666666666666,
              "#ed7953"
             ],
             [
              0.7777777777777778,
              "#fb9f3a"
             ],
             [
              0.8888888888888888,
              "#fdca26"
             ],
             [
              1,
              "#f0f921"
             ]
            ],
            "type": "histogram2d"
           }
          ],
          "histogram2dcontour": [
           {
            "colorbar": {
             "outlinewidth": 0,
             "ticks": ""
            },
            "colorscale": [
             [
              0,
              "#0d0887"
             ],
             [
              0.1111111111111111,
              "#46039f"
             ],
             [
              0.2222222222222222,
              "#7201a8"
             ],
             [
              0.3333333333333333,
              "#9c179e"
             ],
             [
              0.4444444444444444,
              "#bd3786"
             ],
             [
              0.5555555555555556,
              "#d8576b"
             ],
             [
              0.6666666666666666,
              "#ed7953"
             ],
             [
              0.7777777777777778,
              "#fb9f3a"
             ],
             [
              0.8888888888888888,
              "#fdca26"
             ],
             [
              1,
              "#f0f921"
             ]
            ],
            "type": "histogram2dcontour"
           }
          ],
          "mesh3d": [
           {
            "colorbar": {
             "outlinewidth": 0,
             "ticks": ""
            },
            "type": "mesh3d"
           }
          ],
          "parcoords": [
           {
            "line": {
             "colorbar": {
              "outlinewidth": 0,
              "ticks": ""
             }
            },
            "type": "parcoords"
           }
          ],
          "pie": [
           {
            "automargin": true,
            "type": "pie"
           }
          ],
          "scatter": [
           {
            "fillpattern": {
             "fillmode": "overlay",
             "size": 10,
             "solidity": 0.2
            },
            "type": "scatter"
           }
          ],
          "scatter3d": [
           {
            "line": {
             "colorbar": {
              "outlinewidth": 0,
              "ticks": ""
             }
            },
            "marker": {
             "colorbar": {
              "outlinewidth": 0,
              "ticks": ""
             }
            },
            "type": "scatter3d"
           }
          ],
          "scattercarpet": [
           {
            "marker": {
             "colorbar": {
              "outlinewidth": 0,
              "ticks": ""
             }
            },
            "type": "scattercarpet"
           }
          ],
          "scattergeo": [
           {
            "marker": {
             "colorbar": {
              "outlinewidth": 0,
              "ticks": ""
             }
            },
            "type": "scattergeo"
           }
          ],
          "scattergl": [
           {
            "marker": {
             "colorbar": {
              "outlinewidth": 0,
              "ticks": ""
             }
            },
            "type": "scattergl"
           }
          ],
          "scattermapbox": [
           {
            "marker": {
             "colorbar": {
              "outlinewidth": 0,
              "ticks": ""
             }
            },
            "type": "scattermapbox"
           }
          ],
          "scatterpolar": [
           {
            "marker": {
             "colorbar": {
              "outlinewidth": 0,
              "ticks": ""
             }
            },
            "type": "scatterpolar"
           }
          ],
          "scatterpolargl": [
           {
            "marker": {
             "colorbar": {
              "outlinewidth": 0,
              "ticks": ""
             }
            },
            "type": "scatterpolargl"
           }
          ],
          "scatterternary": [
           {
            "marker": {
             "colorbar": {
              "outlinewidth": 0,
              "ticks": ""
             }
            },
            "type": "scatterternary"
           }
          ],
          "surface": [
           {
            "colorbar": {
             "outlinewidth": 0,
             "ticks": ""
            },
            "colorscale": [
             [
              0,
              "#0d0887"
             ],
             [
              0.1111111111111111,
              "#46039f"
             ],
             [
              0.2222222222222222,
              "#7201a8"
             ],
             [
              0.3333333333333333,
              "#9c179e"
             ],
             [
              0.4444444444444444,
              "#bd3786"
             ],
             [
              0.5555555555555556,
              "#d8576b"
             ],
             [
              0.6666666666666666,
              "#ed7953"
             ],
             [
              0.7777777777777778,
              "#fb9f3a"
             ],
             [
              0.8888888888888888,
              "#fdca26"
             ],
             [
              1,
              "#f0f921"
             ]
            ],
            "type": "surface"
           }
          ],
          "table": [
           {
            "cells": {
             "fill": {
              "color": "#EBF0F8"
             },
             "line": {
              "color": "white"
             }
            },
            "header": {
             "fill": {
              "color": "#C8D4E3"
             },
             "line": {
              "color": "white"
             }
            },
            "type": "table"
           }
          ]
         },
         "layout": {
          "annotationdefaults": {
           "arrowcolor": "#2a3f5f",
           "arrowhead": 0,
           "arrowwidth": 1
          },
          "autotypenumbers": "strict",
          "coloraxis": {
           "colorbar": {
            "outlinewidth": 0,
            "ticks": ""
           }
          },
          "colorscale": {
           "diverging": [
            [
             0,
             "#8e0152"
            ],
            [
             0.1,
             "#c51b7d"
            ],
            [
             0.2,
             "#de77ae"
            ],
            [
             0.3,
             "#f1b6da"
            ],
            [
             0.4,
             "#fde0ef"
            ],
            [
             0.5,
             "#f7f7f7"
            ],
            [
             0.6,
             "#e6f5d0"
            ],
            [
             0.7,
             "#b8e186"
            ],
            [
             0.8,
             "#7fbc41"
            ],
            [
             0.9,
             "#4d9221"
            ],
            [
             1,
             "#276419"
            ]
           ],
           "sequential": [
            [
             0,
             "#0d0887"
            ],
            [
             0.1111111111111111,
             "#46039f"
            ],
            [
             0.2222222222222222,
             "#7201a8"
            ],
            [
             0.3333333333333333,
             "#9c179e"
            ],
            [
             0.4444444444444444,
             "#bd3786"
            ],
            [
             0.5555555555555556,
             "#d8576b"
            ],
            [
             0.6666666666666666,
             "#ed7953"
            ],
            [
             0.7777777777777778,
             "#fb9f3a"
            ],
            [
             0.8888888888888888,
             "#fdca26"
            ],
            [
             1,
             "#f0f921"
            ]
           ],
           "sequentialminus": [
            [
             0,
             "#0d0887"
            ],
            [
             0.1111111111111111,
             "#46039f"
            ],
            [
             0.2222222222222222,
             "#7201a8"
            ],
            [
             0.3333333333333333,
             "#9c179e"
            ],
            [
             0.4444444444444444,
             "#bd3786"
            ],
            [
             0.5555555555555556,
             "#d8576b"
            ],
            [
             0.6666666666666666,
             "#ed7953"
            ],
            [
             0.7777777777777778,
             "#fb9f3a"
            ],
            [
             0.8888888888888888,
             "#fdca26"
            ],
            [
             1,
             "#f0f921"
            ]
           ]
          },
          "colorway": [
           "#636efa",
           "#EF553B",
           "#00cc96",
           "#ab63fa",
           "#FFA15A",
           "#19d3f3",
           "#FF6692",
           "#B6E880",
           "#FF97FF",
           "#FECB52"
          ],
          "font": {
           "color": "#2a3f5f"
          },
          "geo": {
           "bgcolor": "white",
           "lakecolor": "white",
           "landcolor": "#E5ECF6",
           "showlakes": true,
           "showland": true,
           "subunitcolor": "white"
          },
          "hoverlabel": {
           "align": "left"
          },
          "hovermode": "closest",
          "mapbox": {
           "style": "light"
          },
          "paper_bgcolor": "white",
          "plot_bgcolor": "#E5ECF6",
          "polar": {
           "angularaxis": {
            "gridcolor": "white",
            "linecolor": "white",
            "ticks": ""
           },
           "bgcolor": "#E5ECF6",
           "radialaxis": {
            "gridcolor": "white",
            "linecolor": "white",
            "ticks": ""
           }
          },
          "scene": {
           "xaxis": {
            "backgroundcolor": "#E5ECF6",
            "gridcolor": "white",
            "gridwidth": 2,
            "linecolor": "white",
            "showbackground": true,
            "ticks": "",
            "zerolinecolor": "white"
           },
           "yaxis": {
            "backgroundcolor": "#E5ECF6",
            "gridcolor": "white",
            "gridwidth": 2,
            "linecolor": "white",
            "showbackground": true,
            "ticks": "",
            "zerolinecolor": "white"
           },
           "zaxis": {
            "backgroundcolor": "#E5ECF6",
            "gridcolor": "white",
            "gridwidth": 2,
            "linecolor": "white",
            "showbackground": true,
            "ticks": "",
            "zerolinecolor": "white"
           }
          },
          "shapedefaults": {
           "line": {
            "color": "#2a3f5f"
           }
          },
          "ternary": {
           "aaxis": {
            "gridcolor": "white",
            "linecolor": "white",
            "ticks": ""
           },
           "baxis": {
            "gridcolor": "white",
            "linecolor": "white",
            "ticks": ""
           },
           "bgcolor": "#E5ECF6",
           "caxis": {
            "gridcolor": "white",
            "linecolor": "white",
            "ticks": ""
           }
          },
          "title": {
           "x": 0.05
          },
          "xaxis": {
           "automargin": true,
           "gridcolor": "white",
           "linecolor": "white",
           "ticks": "",
           "title": {
            "standoff": 15
           },
           "zerolinecolor": "white",
           "zerolinewidth": 2
          },
          "yaxis": {
           "automargin": true,
           "gridcolor": "white",
           "linecolor": "white",
           "ticks": "",
           "title": {
            "standoff": 15
           },
           "zerolinecolor": "white",
           "zerolinewidth": 2
          }
         }
        },
        "title": {
         "text": "Coefficient de silhouette"
        },
        "xaxis": {
         "title": {
          "text": "Nombre de clusters"
         }
        },
        "yaxis": {
         "title": {
          "text": "Coefficient de silhouette"
         }
        }
       }
      }
     },
     "metadata": {},
     "output_type": "display_data"
    },
    {
     "name": "stdout",
     "output_type": "stream",
     "text": [
      "Nombre optimal théorique de clusters : 7\n"
     ]
    }
   ],
   "source": [
    "# Déterminer le nombre optimal de clusters\n",
    "sse = []\n",
    "silhouette = []\n",
    "for k in range(10,100):\n",
    "    kmeans = KMeans(n_clusters=k,)\n",
    "    kmeans.fit(X)\n",
    "    sse.append(kmeans.inertia_)\n",
    "    silhouette.append(silhouette_score(X, kmeans.labels_))\n",
    "\n",
    "# Tracer la courbe de la SSE\n",
    "fig_sse = go.Figure(data=[go.Scatter(x=list(range(10,100)), y=sse, mode='lines+markers')])\n",
    "fig_sse.update_layout(title='Méthode du coude', xaxis_title='Nombre de clusters', yaxis_title='SSE')\n",
    "fig_sse.show()\n",
    "\n",
    "# Tracer la courbe du coefficient de silhouette\n",
    "fig_silhouette = go.Figure(data=[go.Scatter(x=list(range(10,100)), y=silhouette, mode='lines+markers')])\n",
    "fig_silhouette.update_layout(title='Coefficient de silhouette', xaxis_title='Nombre de clusters', yaxis_title='Coefficient de silhouette')\n",
    "fig_silhouette.show()\n",
    "\n",
    "# Déterminer le nombre optimal de clusters\n",
    "k_optimal = np.argmax(silhouette) + 2\n",
    "print(f'Nombre optimal théorique de clusters : {k_optimal}')"
   ]
  },
  {
   "cell_type": "markdown",
   "id": "e5fbbd14-bf55-4b4a-9d53-430bcc5fe4b2",
   "metadata": {},
   "source": [
    "Nous prendrons k=15 clusters"
   ]
  },
  {
   "cell_type": "code",
   "execution_count": 13,
   "id": "229db7c9-424c-499e-9571-544df8f13a3f",
   "metadata": {},
   "outputs": [],
   "source": [
    "# Transformer les données\n",
    "X = tfidf_vectorizer.fit_transform(df_bookmark['title'])\n",
    "\n",
    "# Déterminer le nombre optimal de clusters\n",
    "n_clusters = 15\n",
    "\n",
    "# Faire un clustering des données\n",
    "kmeans = KMeans(n_clusters=n_clusters)\n",
    "kmeans.fit(X)\n",
    "\n",
    "# Obtenir les étiquettes pour chaque cluster\n",
    "labels = kmeans.labels_\n",
    "\n",
    "# Créer un dictionnaire pour stocker les étiquettes des clusters\n",
    "cluster_labels = {}"
   ]
  },
  {
   "cell_type": "code",
   "execution_count": 14,
   "id": "dc54ee4b",
   "metadata": {},
   "outputs": [
    {
     "data": {
      "text/plain": [
       "array([0, 0, 0, ..., 0, 0, 0], shape=(3334,), dtype=int32)"
      ]
     },
     "execution_count": 14,
     "metadata": {},
     "output_type": "execute_result"
    }
   ],
   "source": [
    "labels"
   ]
  },
  {
   "cell_type": "code",
   "execution_count": 15,
   "id": "c0238705-30d0-4099-87c7-a94028b6cd96",
   "metadata": {},
   "outputs": [
    {
     "name": "stderr",
     "output_type": "stream",
     "text": [
      "c:\\Users\\acerone\\Documents\\Projets Python\\00_Venv\\090_WebScraping\\my_venv\\Lib\\site-packages\\thinc\\shims\\pytorch.py:261: FutureWarning:\n",
      "\n",
      "You are using `torch.load` with `weights_only=False` (the current default value), which uses the default pickle module implicitly. It is possible to construct malicious pickle data which will execute arbitrary code during unpickling (See https://github.com/pytorch/pytorch/blob/main/SECURITY.md#untrusted-models for more details). In a future release, the default value for `weights_only` will be flipped to `True`. This limits the functions that could be executed during unpickling. Arbitrary objects will no longer be allowed to be loaded via this mode unless they are explicitly allowlisted by the user via `torch.serialization.add_safe_globals`. We recommend you start setting `weights_only=True` for any use case where you don't have full control of the loaded file. Please open an issue on GitHub for any issues related to this experimental feature.\n",
      "\n"
     ]
    }
   ],
   "source": [
    "# Utiliser spaCy pour faire un étiquetage automatique des clusters\n",
    "nlp_fr = spacy.load(\"fr_dep_news_trf\")"
   ]
  },
  {
   "cell_type": "code",
   "execution_count": 16,
   "id": "1f6e0a0b-033b-42a1-917d-b64c302a711c",
   "metadata": {},
   "outputs": [],
   "source": [
    "for i in range(n_clusters):\n",
    "    cluster_docs = df_bookmark[labels == i]['title']\n",
    "    cluster_text =' '.join(cluster_docs)  # Utiliser un espace pour séparer les documents\n",
    "    doc = nlp_fr(cluster_text)\n",
    "    entities = [ent.text for ent in doc.ents]\n",
    "    nouns = [token.text for token in doc if token.pos_ == 'NOUN']\n",
    "    verbs = [token.text for token in doc if token.pos_ == 'VERB']\n",
    "    keywords = list(set(entities + nouns + verbs))  # Utiliser un set pour supprimer les doublons\n",
    "    cluster_label = ', '.join(keywords[:6])  # Prendre les 5 premiers mots clés\n",
    "    cluster_labels[i] = cluster_label"
   ]
  },
  {
   "cell_type": "code",
   "execution_count": 17,
   "id": "6167c8b1-e609-4821-8e6d-5e8f64a80cc3",
   "metadata": {},
   "outputs": [
    {
     "name": "stdout",
     "output_type": "stream",
     "text": [
      "2809    (44) creating dummy data in python using faker...\n",
      "Name: title, dtype: object\n"
     ]
    }
   ],
   "source": [
    "print(cluster_docs)"
   ]
  },
  {
   "cell_type": "code",
   "execution_count": 18,
   "id": "1e797627",
   "metadata": {},
   "outputs": [
    {
     "data": {
      "text/plain": [
       "1"
      ]
     },
     "execution_count": 18,
     "metadata": {},
     "output_type": "execute_result"
    }
   ],
   "source": [
    "len(cluster_docs)"
   ]
  },
  {
   "cell_type": "code",
   "execution_count": 19,
   "id": "01b35c90",
   "metadata": {},
   "outputs": [
    {
     "data": {
      "text/plain": [
       "''"
      ]
     },
     "execution_count": 19,
     "metadata": {},
     "output_type": "execute_result"
    }
   ],
   "source": [
    "cluster_label"
   ]
  },
  {
   "cell_type": "code",
   "execution_count": null,
   "id": "33525a55",
   "metadata": {},
   "outputs": [],
   "source": [
    "# Répercuter les étiquettes dans la colonne \"theme\" de df_bookmark\n",
    "df_bookmark['theme'] = df_bookmark.index.map(lambda x: cluster_labels[labels[x]])"
   ]
  },
  {
   "cell_type": "code",
   "execution_count": null,
   "id": "700fd70e",
   "metadata": {},
   "outputs": [],
   "source": [
    "df_bookmark.head(25)"
   ]
  }
 ],
 "metadata": {
  "kernelspec": {
   "display_name": "kernel_venv_090",
   "language": "python",
   "name": "kernel_venv090"
  },
  "language_info": {
   "codemirror_mode": {
    "name": "ipython",
    "version": 3
   },
   "file_extension": ".py",
   "mimetype": "text/x-python",
   "name": "python",
   "nbconvert_exporter": "python",
   "pygments_lexer": "ipython3",
   "version": "3.12.0"
  }
 },
 "nbformat": 4,
 "nbformat_minor": 5
}
